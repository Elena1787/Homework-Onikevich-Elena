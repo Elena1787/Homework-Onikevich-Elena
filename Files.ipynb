{
 "cells": [
  {
   "cell_type": "markdown",
   "metadata": {},
   "source": [
    "Задание 1."
   ]
  },
  {
   "cell_type": "code",
   "execution_count": 3,
   "metadata": {},
   "outputs": [],
   "source": [
    "import json\n",
    "purchases = {}\n",
    "with open(\"purchase_log.txt\", \"r\", encoding = \"UTF-8\") as f:\n",
    "    for line in f:\n",
    "        d = json.loads(line)\n",
    "     #   print(d)\n",
    "        if d[\"user_id\"] != \"user_id\":\n",
    "            purchases[d[\"user_id\"]] = d[\"category\"]\n",
    "with open(\"purchases.txt\", \"w\", encoding = \"UTF-8\") as g:\n",
    "    g.write(str(purchases))\n",
    "            \n",
    "        "
   ]
  },
  {
   "cell_type": "markdown",
   "metadata": {},
   "source": [
    "Задание 2."
   ]
  },
  {
   "cell_type": "code",
   "execution_count": 10,
   "metadata": {},
   "outputs": [],
   "source": [
    "with open(\"visit_log.csv\", \"r\", encoding = \"UTF-8\") as f:\n",
    "    with open(\"funnel.csv\", \"w\") as z:\n",
    "        for l in f:\n",
    "            lst = l.strip().split(\",\")\n",
    "            if lst[0] in purchases: \n",
    "                lst.append(purchases[lst[0]])\n",
    "          #      print(lst)\n",
    "                z.write(str(lst) + \"\\n\")"
   ]
  },
  {
   "cell_type": "code",
   "execution_count": null,
   "metadata": {},
   "outputs": [],
   "source": []
  }
 ],
 "metadata": {
  "kernelspec": {
   "display_name": "Python 3",
   "language": "python",
   "name": "python3"
  },
  "language_info": {
   "codemirror_mode": {
    "name": "ipython",
    "version": 3
   },
   "file_extension": ".py",
   "mimetype": "text/x-python",
   "name": "python",
   "nbconvert_exporter": "python",
   "pygments_lexer": "ipython3",
   "version": "3.7.6"
  }
 },
 "nbformat": 4,
 "nbformat_minor": 4
}
