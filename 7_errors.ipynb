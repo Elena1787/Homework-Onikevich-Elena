{
 "cells": [
  {
   "cell_type": "markdown",
   "metadata": {},
   "source": [
    "Задание 1."
   ]
  },
  {
   "cell_type": "markdown",
   "metadata": {},
   "source": [
    "The Moscow Times - Wednesday, October 2, 2002\n",
    "('%A, %B %d %Y') \n",
    "\n",
    "The Guardian - Friday, 11.10.13\n",
    "('%A, %d.%m.%y')\n",
    "\n",
    "Daily News - Thursday, 18 August 1977\n",
    "('%A, %d %B %Y')"
   ]
  },
  {
   "cell_type": "code",
   "execution_count": 2,
   "metadata": {},
   "outputs": [],
   "source": [
    "from datetime import datetime"
   ]
  },
  {
   "cell_type": "code",
   "execution_count": 16,
   "metadata": {},
   "outputs": [
    {
     "data": {
      "text/plain": [
       "datetime.datetime(1977, 8, 18, 0, 0)"
      ]
     },
     "execution_count": 16,
     "metadata": {},
     "output_type": "execute_result"
    }
   ],
   "source": [
    "date_string = 'Thursday, 18 August 1977'\n",
    "date_datetime = datetime.strptime(date_string, '%A, %d %B %Y' )\n",
    "date_datetime"
   ]
  },
  {
   "cell_type": "code",
   "execution_count": 19,
   "metadata": {},
   "outputs": [
    {
     "data": {
      "text/plain": [
       "'Thursday, 18 August 1977'"
      ]
     },
     "execution_count": 19,
     "metadata": {},
     "output_type": "execute_result"
    }
   ],
   "source": [
    "date = datetime(1977, 8, 18, 0, 0)\n",
    "date\n",
    "\n",
    "date.strftime('%A, %d %B %Y')"
   ]
  },
  {
   "cell_type": "markdown",
   "metadata": {},
   "source": [
    "Задание 2."
   ]
  },
  {
   "cell_type": "markdown",
   "metadata": {},
   "source": [
    "Дан поток дат в формате YYYY-MM-DD, в которых встречаются некорректные значения:\n",
    "stream = [‘2018-04-02’, ‘2018-02-29’, ‘2018-19-02’]\n",
    "\n",
    "Напишите функцию, которая проверяет эти даты на корректность. Т. е. для каждой даты возвращает True (дата корректна) или False (некорректная дата)."
   ]
  },
  {
   "cell_type": "code",
   "execution_count": 39,
   "metadata": {},
   "outputs": [
    {
     "name": "stdout",
     "output_type": "stream",
     "text": [
      "2018-04-02 True\n",
      "2018-02-29 True\n",
      "2018-19-02 False\n",
      "2018-20-02 False\n"
     ]
    }
   ],
   "source": [
    "stream = ['2018-04-02', '2018-02-29', '2018-19-02', '2018-20-02']\n",
    "\n",
    "def check_month(some_stream):\n",
    "    counter = 0\n",
    "    for i in some_stream:\n",
    "        i = i.split('-')\n",
    "        print('-'.join(i), int(i[1]) < 12)\n",
    "    #    if int(i[1]) > 12:\n",
    "    #    conter += 1\n",
    "     #       print('-'.join(i), ' — неверный формат')\n",
    "   # print('Число ошибок — ', counter)\n",
    "check_month(stream)\n",
    "        "
   ]
  },
  {
   "cell_type": "markdown",
   "metadata": {},
   "source": [
    "Задание 3."
   ]
  },
  {
   "cell_type": "markdown",
   "metadata": {},
   "source": [
    "Напишите функцию date_range, которая возвращает список дат за период от start_date до end_date. Даты должны вводиться в формате YYYY-MM-DD. В случае неверного формата или при start_date > end_date должен возвращаться пустой список."
   ]
  },
  {
   "cell_type": "code",
   "execution_count": 76,
   "metadata": {},
   "outputs": [
    {
     "name": "stdout",
     "output_type": "stream",
     "text": [
      "['2018-05-01', '2018-05-02', '2018-05-03', '2018-05-04', '2018-05-05', '2018-05-06', '2018-05-07', '2018-05-08', '2018-05-09', '2018-05-10', '2018-05-11', '2018-05-12', '2018-05-13', '2018-05-14', '2018-05-15', '2018-05-16', '2018-05-17', '2018-05-18', '2018-05-19', '2018-05-20', '2018-05-21', '2018-05-22', '2018-05-23', '2018-05-24', '2018-05-25', '2018-05-26', '2018-05-27', '2018-05-28', '2018-05-29', '2018-05-30', '2018-05-31', '2018-06-01']\n"
     ]
    }
   ],
   "source": [
    "start_date = '2018-05-01'\n",
    "end_date = '2018-06-01'\n",
    "\n",
    "def data_range(start, end):\n",
    "    from datetime import datetime\n",
    "    from datetime import timedelta\n",
    "    start_dt = datetime.strptime(start, '%Y-%m-%d')\n",
    "    end_dt = datetime.strptime(end, '%Y-%m-%d')\n",
    "    list_date = []\n",
    "    while start_dt <= end_dt:\n",
    "        list_date.append(start_dt.strftime('%Y-%m-%d'))\n",
    "        start_dt += timedelta(days=1)\n",
    "    print(list_date)\n",
    "\n",
    "try:\n",
    "    data_range(start_date, end_date)\n",
    "except ValueError:\n",
    "    print([])\n",
    "\n",
    "    \n",
    "    "
   ]
  },
  {
   "cell_type": "code",
   "execution_count": null,
   "metadata": {},
   "outputs": [],
   "source": []
  }
 ],
 "metadata": {
  "kernelspec": {
   "display_name": "Python 3",
   "language": "python",
   "name": "python3"
  },
  "language_info": {
   "codemirror_mode": {
    "name": "ipython",
    "version": 3
   },
   "file_extension": ".py",
   "mimetype": "text/x-python",
   "name": "python",
   "nbconvert_exporter": "python",
   "pygments_lexer": "ipython3",
   "version": "3.7.6"
  }
 },
 "nbformat": 4,
 "nbformat_minor": 4
}
