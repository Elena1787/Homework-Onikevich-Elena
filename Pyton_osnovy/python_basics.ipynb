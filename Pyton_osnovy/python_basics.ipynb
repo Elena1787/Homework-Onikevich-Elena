{
 "cells": [
  {
   "cell_type": "markdown",
   "metadata": {},
   "source": [
    "**Задание 1**. Даны 2 строки: *long_phrase* и *short_phrase*. \n",
    "Напишите код, который проверяет действительно ли длинная фраза *long_phrase* длиннее короткой *short_phrase*. И выводит *True* или *False* в зависимости от результата сравнения."
   ]
  },
  {
   "cell_type": "code",
   "execution_count": null,
   "metadata": {},
   "outputs": [],
   "source": [
    "long_phrase = 'Насколько проще было бы писать программы, если бы не заказчики'\n",
    "short_phrase = '640Кб должно хватить для любых задач. Билл Гейтс (по легенде)'"
   ]
  },
  {
   "cell_type": "code",
   "execution_count": 7,
   "metadata": {},
   "outputs": [
    {
     "data": {
      "text/plain": [
       "False"
      ]
     },
     "execution_count": 7,
     "metadata": {},
     "output_type": "execute_result"
    }
   ],
   "source": [
    "len(\"long_phrase\") > len(\"short_phrase\")"
   ]
  },
  {
   "cell_type": "markdown",
   "metadata": {},
   "source": [
    "**Задание 2**. Дано значение объема файла в байтах (*в мегабайте 2^20 байт*). Напишите перевод этого значения в мегабайты в формате: \"*Объем файла равен 213.68Mb*\"."
   ]
  },
  {
   "cell_type": "code",
   "execution_count": 15,
   "metadata": {},
   "outputs": [
    {
     "name": "stdout",
     "output_type": "stream",
     "text": [
      "Объем файла равен 203.78 Mb\n"
     ]
    }
   ],
   "source": [
    "volume_byte = 213680000\n",
    "volume_megabyte = round((volume_byte / (2 ** 20)), 2)\n",
    "print(\"Объем файла равен\", volume_megabyte, \"Mb\")"
   ]
  },
  {
   "cell_type": "markdown",
   "metadata": {},
   "source": [
    "**Задание 3**. Разработать приложение для определения знака зодиака по дате рождения. Пример:\n",
    "\n",
    "Введите месяц: март\n",
    "\n",
    "Введите число: 6\n",
    "\n",
    "Вывод:\n",
    "Рыбы"
   ]
  },
  {
   "cell_type": "code",
   "execution_count": 22,
   "metadata": {},
   "outputs": [
    {
     "name": "stdout",
     "output_type": "stream",
     "text": [
      "Введите месяц: октябрь\n",
      "Введите число: 10\n",
      "Вывод: Весы\n"
     ]
    }
   ],
   "source": [
    "user_input_month = input(\"Введите месяц: \")\n",
    "user_input_number = int(input(\"Введите число: \"))\n",
    "if (user_input_month == \"март\" and user_input_number >= 21) or (user_input_month == \"апрель\" and user_input_number <= 20):\n",
    "    print(\"Вывод:\", \"Овен\")\n",
    "elif (user_input_month == \"апрель\" and user_input_number >= 21) or (user_input_month == \"май\" and user_input_number <= 21):\n",
    "    print(\"Вывод:\", \"Телец\")\n",
    "elif (user_input_month == \"май\" and user_input_number >= 22) or (user_input_month == \"июнь\" and user_input_number <= 21):\n",
    "    print(\"Вывод:\", \"Близнецы\")\n",
    "elif (user_input_month == \"июнь\" and user_input_number >= 22) or (user_input_month == \"июль\" and user_input_number <= 22):\n",
    "    print(\"Вывод:\", \"Рак\")\n",
    "elif (user_input_month == \"июль\" and user_input_number >= 23) or (user_input_month == \"август\" and user_input_number <= 23):\n",
    "    print(\"Вывод:\", \"Лев\")\n",
    "elif (user_input_month == \"август\" and user_input_number >= 24) or (user_input_month == \"сентябрь\" and user_input_number <= 23):\n",
    "    print(\"Вывод:\", \"Дева\")\n",
    "elif (user_input_month == \"сентябрь\" and user_input_number >= 24) or (user_input_month == \"октябрь\" and user_input_number <= 23):\n",
    "    print(\"Вывод:\", \"Весы\")\n",
    "elif (user_input_month == \"октябрь\" and user_input_number >= 24) or (user_input_month == \"ноябрь\" and user_input_number <= 22):\n",
    "    print(\"Вывод:\", \"Скорпион\")\n",
    "elif (user_input_month == \"ноябрь\" and user_input_number >= 23) or (user_input_month == \"декабрь\" and user_input_number <= 22):\n",
    "    print(\"Вывод:\", \"Стрелец\")\n",
    "elif (user_input_month == \"декабрь\" and user_input_number >= 23) or (user_input_month == \"январь\" and user_input_number <= 20):\n",
    "    print(\"Вывод:\", \"Козерог\")\n",
    "elif (user_input_month == \"январь\" and user_input_number >= 21) or (user_input_month == \"февраль\" and user_input_number <= 19):\n",
    "    print(\"Вывод:\", \"Водолей\")\n",
    "elif (user_input_month == \"февраль\" and user_input_number >= 20) or (user_input_month == \"март\" and user_input_number <= 20):\n",
    "    print(\"Вывод:\", \"Рыбы\")"
   ]
  },
  {
   "cell_type": "markdown",
   "metadata": {},
   "source": [
    "**Задание 4**. Нужно разработать приложение для финансового планирования.\n",
    "Приложение учитывает сколько уходит на ипотеку, \"на жизнь\" и сколько нужно отложить на пенсию.\n",
    "Пользователь вводит:\n",
    "- заработанную плату в месяц.\n",
    "- сколько процентов от ЗП уходит на ипотеку.\n",
    "- сколько процентов от ЗП уходит \"на жизнь\".\n",
    "- сколько раз приходит премия в год.\n",
    "\n",
    "Остальная часть заработанной платы откладывается на пенсию.\n",
    "\n",
    "Также пользователю приходит премия в размере зарплаты, от которой половина уходит на отпуск, а вторая половина откладывается.\n",
    "\n",
    "Программа должна учитывать сколько премий было в год.\n",
    "\n",
    "Нужно вывести сколько денег тратит пользователь на ипотеку и сколько он накопит за год.\n",
    "\n",
    "Пример:\n",
    "\n",
    "Введите заработанную плату в месяц: 100000\n",
    "\n",
    "Введите сколько процентов уходит на ипотеку: 30\n",
    "\n",
    "Введите сколько процентов уходит на жизнь: 50\n",
    "\n",
    "Введите количество премий за год: 2\n",
    "\n",
    "Вывод:\n",
    "На ипотеку было потрачено: 360000 рублей\n",
    "Было накоплено: 340000 рублей"
   ]
  },
  {
   "cell_type": "code",
   "execution_count": 29,
   "metadata": {},
   "outputs": [
    {
     "name": "stdout",
     "output_type": "stream",
     "text": [
      "Введите заработную плату в месяц: 100000\n",
      "Введите сколько процентов уходит на ипотеку: 30\n",
      "Введите сколько процентов уходит на жизнь: 50\n",
      "Введите количество премий за год: 2\n",
      "На ипотеку было потрачено:  360000 рублей Было накоплено:  340000 рублей\n"
     ]
    }
   ],
   "source": [
    "user_input_salary = int(input(\"Введите заработную плату в месяц: \"))\n",
    "user_input_mrtg_prnt = int(input(\"Введите сколько процентов уходит на ипотеку: \"))\n",
    "user_input_life_prnt = int(input(\"Введите сколько процентов уходит на жизнь: \"))\n",
    "user_input_prize = int(input(\"Введите количество премий за год: \"))\n",
    "prize = user_input_salary * user_input_prize\n",
    "spent_in_year_mrtg = round(12 * (100000 * 0.3))\n",
    "saved = round(12 * (100000 * 0.2) + prize / 2)\n",
    "print(\"На ипотеку было потрачено: \", spent_in_year_mrtg, \"рублей\", \"Было накоплено: \", saved, \"рублей\")\n",
    "\n"
   ]
  },
  {
   "cell_type": "code",
   "execution_count": null,
   "metadata": {},
   "outputs": [],
   "source": []
  }
 ],
 "metadata": {
  "kernelspec": {
   "display_name": "Python 3",
   "language": "python",
   "name": "python3"
  },
  "language_info": {
   "codemirror_mode": {
    "name": "ipython",
    "version": 3
   },
   "file_extension": ".py",
   "mimetype": "text/x-python",
   "name": "python",
   "nbconvert_exporter": "python",
   "pygments_lexer": "ipython3",
   "version": "3.7.6"
  }
 },
 "nbformat": 4,
 "nbformat_minor": 2
}
