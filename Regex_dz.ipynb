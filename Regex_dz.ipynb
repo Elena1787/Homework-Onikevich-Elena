{
 "cells": [
  {
   "cell_type": "markdown",
   "metadata": {},
   "source": [
    "Задание 1.\n",
    "Напишите функцию, которая принимает на вход строку и проверяет является ли она валидным транспортным номером. Если да, то функция должна возвращать отдельно номер и регион."
   ]
  },
  {
   "cell_type": "code",
   "execution_count": 1,
   "metadata": {},
   "outputs": [],
   "source": [
    "import re"
   ]
  },
  {
   "cell_type": "code",
   "execution_count": 2,
   "metadata": {},
   "outputs": [],
   "source": [
    "string = 'О100АА777'"
   ]
  },
  {
   "cell_type": "code",
   "execution_count": 3,
   "metadata": {},
   "outputs": [
    {
     "name": "stdout",
     "output_type": "stream",
     "text": [
      "('О100АА', '777')\n"
     ]
    }
   ],
   "source": [
    "def transport_number_validation(string):\n",
    "    transport_number = r'([А-Я]{1}\\d{3}[А-Я]{2})(\\d{2,3})'\n",
    "    result = re.match(transport_number, string)\n",
    "    print(result.group(1, 2) if result else False)\n",
    "transport_number_validation(string)"
   ]
  },
  {
   "cell_type": "markdown",
   "metadata": {},
   "source": [
    "Задание 2.\n",
    "Постарайтесь написать (в крайнем случае найти) самый полный шаблон для проверки e-mail адресов через регулярное выражение, которая проверяет e-mail адрес на валидность. \n",
    "Можно руководствоваться следующими минимальными требованиями:\n",
    "• адрес должен содержать специальный символ “@”, который отделяет имя пользователя почтовой системы от доменного имени;\n",
    "• адрес не должен содержать следующие символы: “пробел”, “,”, “:”, “;”, “!”, “#”, “%”, “*”, “(”, “)”, “=”, “+”, “{”, “}”, \" \" \", \" ’ \", \" / \", \" \\ \" и “|”;\n",
    "• адрес должен состоять только из латинских символов;\n",
    "• после символа “@” должна быть как минимум одна “.”;\n",
    "• после последней точки должно быть не менее 2-х и не более 4-х символов, причем наличие цифр не допускается;\n",
    "• между последней точкой и символом “@” должно быть не менее 2-х символов\n",
    "• слева от “@” должно быть не менее четырех символов"
   ]
  },
  {
   "cell_type": "code",
   "execution_count": 5,
   "metadata": {},
   "outputs": [
    {
     "name": "stdout",
     "output_type": "stream",
     "text": [
      "Ok\n"
     ]
    }
   ],
   "source": [
    "email = 'onikevich.e@gmail.com'\n",
    "\n",
    "def check_email(email):\n",
    "    check = re.findall(r'([a-z0-9_\\.]{4,256})@([a-z\\.]{2,256})\\.([a-z]{2,4}$)', email)\n",
    "    if check == []:\n",
    "        print(False)\n",
    "    else:\n",
    "        print('Ok')\n",
    "        \n",
    "check_email(email)"
   ]
  },
  {
   "cell_type": "markdown",
   "metadata": {},
   "source": [
    "Задание 3. Напишите функцию, которая будет удалять все последовательные повторы слов из заданной строки при помощи регулярных выражений."
   ]
  },
  {
   "cell_type": "code",
   "execution_count": 7,
   "metadata": {},
   "outputs": [
    {
     "name": "stdout",
     "output_type": "stream",
     "text": [
      "Я не повторяюсь\n"
     ]
    }
   ],
   "source": [
    "some_string = 'Я не повторяюсь повторяюсь'\n",
    "\n",
    "def del_repeat(some_string):\n",
    "    result = re.sub(r'(\\w+)\\s\\1\\b', r'\\1', some_string)\n",
    "    print(result)\n",
    "\n",
    "del_repeat(some_string)  "
   ]
  },
  {
   "cell_type": "markdown",
   "metadata": {},
   "source": [
    "Задание 4. Напишите функцию, которая будет проверять номер сотового телефона на валидность, если он валиден, то переводить его в формат: +7(xxx)-xxx-xx-xx​Постарайтесь предусмотреть как можно больше адекватных форматов изначального ввода номера. Примеры валидных форматов:​• +7 955 555-55-55; • 9555555555; • 8(955)555-55-55; • +7 955 555 55 55; • 7(955) 555-55-55; • +7 955+555+55+55."
   ]
  },
  {
   "cell_type": "code",
   "execution_count": 10,
   "metadata": {},
   "outputs": [
    {
     "name": "stdout",
     "output_type": "stream",
     "text": [
      "+7(955)-555-55-55\n"
     ]
    }
   ],
   "source": [
    "phonenumber = '7(955)555-55-55'\n",
    "def valid_phonenumber(phonenumber):\n",
    "    first_result = re.findall(r'\\d', phonenumber)\n",
    "    if len(first_result) == 10 and first_result[0] == '9':\n",
    "        result = re.sub(r'(\\d{3})[-+\\(\\)\\s]?(\\d{3})[-+\\(\\)\\s]?(\\d{2})[-+\\(\\)\\s]?(\\d{2})', r'+7(\\1)-\\2-\\3-\\4' , phonenumber)\n",
    "        print(result)\n",
    "    elif ((len(first_result) == 11) and (first_result[0] == '8' or '7')):\n",
    "        result = re.sub(r'(\\d{1})[\\+\\-\\(\\)\\s]?(\\d{3})[\\+\\-\\(\\)\\s]?(\\d{3})[\\+\\-\\(\\)\\s]?(\\d{2})[\\+\\-\\(\\)\\s]?(\\d{2})', r'+7(\\2)-\\3-\\4-\\5' , phonenumber)\n",
    "        print(result)\n",
    "    else:\n",
    "        print(False)\n",
    "    \n",
    "valid_phonenumber(phonenumber)"
   ]
  }
 ],
 "metadata": {
  "kernelspec": {
   "display_name": "Python 3",
   "language": "python",
   "name": "python3"
  },
  "language_info": {
   "codemirror_mode": {
    "name": "ipython",
    "version": 3
   },
   "file_extension": ".py",
   "mimetype": "text/x-python",
   "name": "python",
   "nbconvert_exporter": "python",
   "pygments_lexer": "ipython3",
   "version": "3.7.6"
  }
 },
 "nbformat": 4,
 "nbformat_minor": 2
}
