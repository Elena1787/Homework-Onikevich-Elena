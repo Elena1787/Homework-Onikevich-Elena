{
 "cells": [
  {
   "cell_type": "markdown",
   "metadata": {},
   "source": [
    "Вы работаете секретарем и вам постоянно приходят различные документы. Вы должны быть очень внимательны, чтобы не потерять ни один документ. Каталог документов хранится в следующем виде:"
   ]
  },
  {
   "cell_type": "code",
   "execution_count": null,
   "metadata": {
    "collapsed": true
   },
   "outputs": [],
   "source": [
    "documents = [\n",
    "    {'type': 'passport', 'number': '2207 876234', 'name': 'Василий Гупкин'},\n",
    "    {'type': 'invoice', 'number': '11-2', 'name': 'Геннадий Покемонов'},\n",
    "    {'type': 'insurance', 'number': '10006', 'name': 'Аристарх Павлов'}\n",
    "]"
   ]
  },
  {
   "cell_type": "markdown",
   "metadata": {},
   "source": [
    "Перечень полок, на которых находятся документы хранится в следующем виде:"
   ]
  },
  {
   "cell_type": "code",
   "execution_count": null,
   "metadata": {
    "collapsed": true
   },
   "outputs": [],
   "source": [
    "directories = {\n",
    "    '1': ['2207 876234', '11-2'],\n",
    "    '2': ['10006'],\n",
    "    '3': []\n",
    "}"
   ]
  },
  {
   "cell_type": "code",
   "execution_count": null,
   "metadata": {},
   "outputs": [],
   "source": [
    "documents"
   ]
  },
  {
   "cell_type": "code",
   "execution_count": null,
   "metadata": {},
   "outputs": [],
   "source": [
    "def people(documents):\n",
    "    document_number = input('Введите номер документа: ')\n",
    "    for el in documents:\n",
    "        if el['number'] == document_number:\n",
    "            print(el['name'])\n",
    "            return\n",
    "    else:\n",
    "        print('Номер документа не найден')\n",
    "        return\n",
    "#people(documents)"
   ]
  },
  {
   "cell_type": "code",
   "execution_count": null,
   "metadata": {},
   "outputs": [],
   "source": [
    "def shelf(directories):\n",
    "    document_number = input('Введите номер документа: ')\n",
    "    for key, value in directories.items():        \n",
    "        if document_number in value:\n",
    "            print(key)\n",
    "            return\n",
    "    if document_number not in value:\n",
    "        print('Номера нет в списке')\n",
    "        return\n",
    "#shelf(directories)"
   ]
  },
  {
   "cell_type": "code",
   "execution_count": null,
   "metadata": {},
   "outputs": [],
   "source": [
    "def lst(documents):\n",
    "    for el in documents:\n",
    "        print(el['type'], el['number'], el['name'])"
   ]
  },
  {
   "cell_type": "code",
   "execution_count": null,
   "metadata": {},
   "outputs": [],
   "source": [
    "def add_shelf(directories):    \n",
    "    new_shelf = input('Введите номер полки: ')\n",
    "    if directories.get(new_shelf) == None:\n",
    "        directories.setdefault(new_shelf, [])\n",
    "    else:\n",
    "        return 'Полка уже существует'\n",
    "#add_shelf(directories)"
   ]
  },
  {
   "cell_type": "code",
   "execution_count": null,
   "metadata": {},
   "outputs": [],
   "source": [
    "def delete(documents, directories):\n",
    "    document_number = input('Введите номер документа: ')\n",
    "    for el in documents: \n",
    "        if el['number'] == document_number:\n",
    "            documents.remove(el)\n",
    "    for value in directories.values():        \n",
    "        if document_number in value:\n",
    "            value.remove(document_number)\n",
    "    if document_number != el['number']:\n",
    "        print('Введённого номера нет в списке')\n",
    "        return \n",
    "#delete(documents, directories)"
   ]
  },
  {
   "cell_type": "code",
   "execution_count": null,
   "metadata": {},
   "outputs": [],
   "source": [
    "def move(directories):    \n",
    "    document_number = input('Введите номер документа: ') \n",
    "    shelf_number = input('Введите номер полки: ')\n",
    "    for key, value in directories.items():\n",
    "        if key == shelf_number:\n",
    "            for key, value in directories.items():\n",
    "                if document_number in value:\n",
    "                    value.remove(document_number)\n",
    "                    directories[shelf_number].append(document_number)\n",
    "                    return\n",
    "    if shelf_number not in key:\n",
    "        print('Введённой полки не существует')\n",
    "        return\n",
    "    if document_number not in value:\n",
    "        print('Введённого номера нет в списке')\n",
    "        return\n",
    "\n",
    "#move(directories)"
   ]
  },
  {
   "cell_type": "code",
   "execution_count": null,
   "metadata": {
    "collapsed": true
   },
   "outputs": [],
   "source": [
    "def add(documents, directories):\n",
    "    doc_number = input('Введите номер документа: ')\n",
    "    doc_type = input('Введите тип документа: ')\n",
    "    name = input('Введите имя владельца: ')\n",
    "    shelf_number = input('Введите номер полки: ')\n",
    "    documents.append({'type': doc_type, 'number': doc_number, 'name': name})\n",
    "    if directories.get(shelf_number) == None:\n",
    "        print('Введённой полки не существует')\n",
    "        return\n",
    "    else:\n",
    "        directories[shelf_number].append(document_number)\n",
    "        return\n",
    "#add(documents, directories)"
   ]
  },
  {
   "cell_type": "code",
   "execution_count": null,
   "metadata": {},
   "outputs": [],
   "source": [
    "user_inp1 = input('Введите команду. p – чтобы узнать имя человека по номеру документа; s – чтобы узнать номер полки по номеру документа; l – чтобы получить список всех документов; as – чтобы добавить новую полку; d – чтобы удалить документ из каталога и перечня полок по его номеру; m – чтобы переместить документ на другую полку; a – чтобы добавить новый документ в каталог и в перечень полок. ')\n",
    "if user_inp1 == 'p':\n",
    "    people(documents)\n",
    "elif user_inp1 == 's':\n",
    "    shelf(directories)\n",
    "elif user_inp1 == 'l':\n",
    "    lst(documents)       \n",
    "elif user_inp1 == 'as':\n",
    "    add_shelf(directories)\n",
    "elif user_inp1 == 'd':\n",
    "    delete(documents, directories)            \n",
    "elif user_inp1 == 'm':\n",
    "    move(directories)    \n",
    "elif user_inp1 == 'a':\n",
    "    add(documents, directories)"
   ]
  },
  {
   "cell_type": "code",
   "execution_count": null,
   "metadata": {},
   "outputs": [],
   "source": [
    "print(directories)\n",
    "print(documents)"
   ]
  },
  {
   "cell_type": "markdown",
   "metadata": {},
   "source": [
    "Необходимо реализовать пользовательские команды (внимание! это не название функций, которые должны быть выразительными, а команды, которые вводит пользователь, чтобы получить необходимый результат):\n",
    "  \n",
    "- p – people – команда, которая спросит номер документа и выведет имя человека, которому он принадлежит;  \n",
    "- s – shelf – команда, которая спросит номер документа и выведет номер полки, на которой он находится  \n",
    "*Правильно обработайте ситуации, когда пользователь будет вводить несуществующий документ*.\n",
    "- l – list – команда, которая выведет список всех документов в формате   \n",
    "**passport \"2207 876234\" \"Василий Гупкин\"**  \n",
    "- as – add shelf – команда, которая спросит номер новой полки и добавит ее в перечень. *Предусмотрите случай, когда пользователь добавляет полку, которая уже существует*.\n",
    "- d – delete – команда, которая спросит номер документа и удалит его из каталога и из перечня полок. *Предусмотрите сценарий, когда пользователь вводит несуществующий документ*;  \n",
    "- m – move – команда, которая спросит номер документа и целевую полку и переместит его с текущей полки на целевую. *Корректно обработайте кейсы, когда пользователь пытается переместить несуществующий документ или переместить документ на несуществующую полку*;  \n",
    "- a – add – команда, которая добавит новый документ в каталог и в перечень полок, спросив его номер, тип, имя владельца и номер полки, на котором он будет храниться. *Корректно обработайте ситуацию, когда пользователь будет пытаться добавить документ на несуществующую полку*."
   ]
  }
 ],
 "metadata": {
  "kernelspec": {
   "display_name": "Python 3",
   "language": "python",
   "name": "python3"
  },
  "language_info": {
   "codemirror_mode": {
    "name": "ipython",
    "version": 3
   },
   "file_extension": ".py",
   "mimetype": "text/x-python",
   "name": "python",
   "nbconvert_exporter": "python",
   "pygments_lexer": "ipython3",
   "version": "3.6.3"
  }
 },
 "nbformat": 4,
 "nbformat_minor": 2
}
